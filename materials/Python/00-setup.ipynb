{
 "cells": [
  {
   "cell_type": "markdown",
   "metadata": {},
   "source": [
    "## Setting up your environment\n",
    "\n",
    "The following packages will be used:"
   ]
  },
  {
   "cell_type": "code",
   "execution_count": 2,
   "metadata": {},
   "outputs": [
    {
     "output_type": "stream",
     "name": "stdout",
     "text": "Requirement already up-to-date: scikit-learn in /anaconda3/lib/python3.7/site-packages (0.23.1)\nRequirement already satisfied, skipping upgrade: threadpoolctl>=2.0.0 in /anaconda3/lib/python3.7/site-packages (from scikit-learn) (2.1.0)\nRequirement already satisfied, skipping upgrade: scipy>=0.19.1 in /anaconda3/lib/python3.7/site-packages (from scikit-learn) (1.3.0)\nRequirement already satisfied, skipping upgrade: numpy>=1.13.3 in /anaconda3/lib/python3.7/site-packages (from scikit-learn) (1.18.2)\nRequirement already satisfied, skipping upgrade: joblib>=0.11 in /anaconda3/lib/python3.7/site-packages (from scikit-learn) (0.13.2)\nRequirement already up-to-date: pandas in /anaconda3/lib/python3.7/site-packages (1.0.4)\nRequirement already satisfied, skipping upgrade: numpy>=1.13.3 in /anaconda3/lib/python3.7/site-packages (from pandas) (1.18.2)\nRequirement already satisfied, skipping upgrade: python-dateutil>=2.6.1 in /anaconda3/lib/python3.7/site-packages (from pandas) (2.8.0)\nRequirement already satisfied, skipping upgrade: pytz>=2017.2 in /anaconda3/lib/python3.7/site-packages (from pandas) (2019.1)\nRequirement already satisfied, skipping upgrade: six>=1.5 in /anaconda3/lib/python3.7/site-packages (from python-dateutil>=2.6.1->pandas) (1.12.0)\nCollecting tensorflow\n\u001b[?25l  Downloading https://files.pythonhosted.org/packages/49/b7/b6de9de9f14b940ad877fb376c6e1f72d6ea924affce04656b0423725e47/tensorflow-2.2.0-cp37-cp37m-macosx_10_11_x86_64.whl (175.3MB)\n\u001b[K     |████████████████████████████████| 175.3MB 143kB/s \n\u001b[?25hCollecting absl-py>=0.7.0 (from tensorflow)\n\u001b[?25l  Downloading https://files.pythonhosted.org/packages/1a/53/9243c600e047bd4c3df9e69cfabc1e8004a82cac2e0c484580a78a94ba2a/absl-py-0.9.0.tar.gz (104kB)\n\u001b[K     |████████████████████████████████| 112kB 587kB/s \n\u001b[?25hRequirement already satisfied: protobuf>=3.8.0 in /anaconda3/lib/python3.7/site-packages (from tensorflow) (3.11.3)\nCollecting keras-preprocessing>=1.1.0 (from tensorflow)\n\u001b[?25l  Downloading https://files.pythonhosted.org/packages/79/4c/7c3275a01e12ef9368a892926ab932b33bb13d55794881e3573482b378a7/Keras_Preprocessing-1.1.2-py2.py3-none-any.whl (42kB)\n\u001b[K     |████████████████████████████████| 51kB 443kB/s \n\u001b[?25hCollecting h5py<2.11.0,>=2.10.0 (from tensorflow)\n  Using cached https://files.pythonhosted.org/packages/1a/8b/4d01ae9a9d50a0bcc7b0b9aae41785d8d9de6fa9bba04dc20b1582181d2d/h5py-2.10.0-cp37-cp37m-macosx_10_6_intel.whl\nCollecting tensorboard<2.3.0,>=2.2.0 (from tensorflow)\n\u001b[?25l  Downloading https://files.pythonhosted.org/packages/1d/74/0a6fcb206dcc72a6da9a62dd81784bfdbff5fedb099982861dc2219014fb/tensorboard-2.2.2-py3-none-any.whl (3.0MB)\n\u001b[K     |████████████████████████████████| 3.0MB 627kB/s \n\u001b[?25hCollecting tensorflow-estimator<2.3.0,>=2.2.0 (from tensorflow)\n\u001b[?25l  Downloading https://files.pythonhosted.org/packages/a4/f5/926ae53d6a226ec0fda5208e0e581cffed895ccc89e36ba76a8e60895b78/tensorflow_estimator-2.2.0-py2.py3-none-any.whl (454kB)\n\u001b[K     |████████████████████████████████| 460kB 1.9MB/s \n\u001b[?25hCollecting opt-einsum>=2.3.2 (from tensorflow)\n\u001b[?25l  Downloading https://files.pythonhosted.org/packages/63/a5/e6c07b08b934831ccb8c98ee335e66b7761c5754ee3cabfe4c11d0b1af28/opt_einsum-3.2.1-py3-none-any.whl (63kB)\n\u001b[K     |████████████████████████████████| 71kB 12.8MB/s \n\u001b[?25hCollecting termcolor>=1.1.0 (from tensorflow)\nCollecting google-pasta>=0.1.8 (from tensorflow)\n\u001b[?25l  Downloading https://files.pythonhosted.org/packages/a3/de/c648ef6835192e6e2cc03f40b19eeda4382c49b5bafb43d88b931c4c74ac/google_pasta-0.2.0-py3-none-any.whl (57kB)\n\u001b[K     |████████████████████████████████| 61kB 483kB/s \n\u001b[?25hRequirement already satisfied: wrapt>=1.11.1 in /anaconda3/lib/python3.7/site-packages (from tensorflow) (1.11.2)\nRequirement already satisfied: six>=1.12.0 in /anaconda3/lib/python3.7/site-packages (from tensorflow) (1.12.0)\nRequirement already satisfied: grpcio>=1.8.6 in /anaconda3/lib/python3.7/site-packages (from tensorflow) (1.27.2)\nCollecting scipy==1.4.1; python_version >= \"3\" (from tensorflow)\n  Using cached https://files.pythonhosted.org/packages/85/7a/ae480be23b768910a9327c33517ced4623ba88dc035f9ce0206657c353a9/scipy-1.4.1-cp37-cp37m-macosx_10_6_intel.whl\nRequirement already satisfied: wheel>=0.26; python_version >= \"3\" in /anaconda3/lib/python3.7/site-packages (from tensorflow) (0.33.4)\nCollecting gast==0.3.3 (from tensorflow)\n  Downloading https://files.pythonhosted.org/packages/d6/84/759f5dd23fec8ba71952d97bcc7e2c9d7d63bdc582421f3cd4be845f0c98/gast-0.3.3-py2.py3-none-any.whl\nCollecting astunparse==1.6.3 (from tensorflow)\n  Downloading https://files.pythonhosted.org/packages/2b/03/13dde6512ad7b4557eb792fbcf0c653af6076b81e5941d36ec61f7ce6028/astunparse-1.6.3-py2.py3-none-any.whl\nRequirement already satisfied: numpy<2.0,>=1.16.0 in /anaconda3/lib/python3.7/site-packages (from tensorflow) (1.18.2)\nRequirement already satisfied: setuptools in /anaconda3/lib/python3.7/site-packages (from protobuf>=3.8.0->tensorflow) (41.0.1)\nCollecting markdown>=2.6.8 (from tensorboard<2.3.0,>=2.2.0->tensorflow)\n\u001b[?25l  Downloading https://files.pythonhosted.org/packages/a4/63/eaec2bd025ab48c754b55e8819af0f6a69e2b1e187611dd40cbbe101ee7f/Markdown-3.2.2-py3-none-any.whl (88kB)\n\u001b[K     |████████████████████████████████| 92kB 523kB/s \n\u001b[?25hRequirement already satisfied: werkzeug>=0.11.15 in /anaconda3/lib/python3.7/site-packages (from tensorboard<2.3.0,>=2.2.0->tensorflow) (0.15.4)\nCollecting google-auth-oauthlib<0.5,>=0.4.1 (from tensorboard<2.3.0,>=2.2.0->tensorflow)\n  Using cached https://files.pythonhosted.org/packages/7b/b8/88def36e74bee9fce511c9519571f4e485e890093ab7442284f4ffaef60b/google_auth_oauthlib-0.4.1-py2.py3-none-any.whl\nRequirement already satisfied: google-auth<2,>=1.6.3 in /anaconda3/lib/python3.7/site-packages (from tensorboard<2.3.0,>=2.2.0->tensorflow) (1.11.2)\nCollecting tensorboard-plugin-wit>=1.6.0 (from tensorboard<2.3.0,>=2.2.0->tensorflow)\n\u001b[?25l  Downloading https://files.pythonhosted.org/packages/51/cd/a0c1f9e4582ea64dddf76c1b808b318d01e3b858a51c715bffab1016ecc7/tensorboard_plugin_wit-1.6.0.post3-py3-none-any.whl (777kB)\n\u001b[K     |████████████████████████████████| 778kB 584kB/s \n\u001b[?25hRequirement already satisfied: requests<3,>=2.21.0 in /anaconda3/lib/python3.7/site-packages (from tensorboard<2.3.0,>=2.2.0->tensorflow) (2.23.0)\nRequirement already satisfied: importlib-metadata; python_version < \"3.8\" in /anaconda3/lib/python3.7/site-packages (from markdown>=2.6.8->tensorboard<2.3.0,>=2.2.0->tensorflow) (0.17)\nCollecting requests-oauthlib>=0.7.0 (from google-auth-oauthlib<0.5,>=0.4.1->tensorboard<2.3.0,>=2.2.0->tensorflow)\n  Using cached https://files.pythonhosted.org/packages/a3/12/b92740d845ab62ea4edf04d2f4164d82532b5a0b03836d4d4e71c6f3d379/requests_oauthlib-1.3.0-py2.py3-none-any.whl\nRequirement already satisfied: rsa<4.1,>=3.1.4 in /anaconda3/lib/python3.7/site-packages (from google-auth<2,>=1.6.3->tensorboard<2.3.0,>=2.2.0->tensorflow) (4.0)\nRequirement already satisfied: cachetools<5.0,>=2.0.0 in /anaconda3/lib/python3.7/site-packages (from google-auth<2,>=1.6.3->tensorboard<2.3.0,>=2.2.0->tensorflow) (4.0.0)\nRequirement already satisfied: pyasn1-modules>=0.2.1 in /anaconda3/lib/python3.7/site-packages (from google-auth<2,>=1.6.3->tensorboard<2.3.0,>=2.2.0->tensorflow) (0.2.8)\nRequirement already satisfied: idna<3,>=2.5 in /anaconda3/lib/python3.7/site-packages (from requests<3,>=2.21.0->tensorboard<2.3.0,>=2.2.0->tensorflow) (2.8)\nRequirement already satisfied: urllib3!=1.25.0,!=1.25.1,<1.26,>=1.21.1 in /anaconda3/lib/python3.7/site-packages (from requests<3,>=2.21.0->tensorboard<2.3.0,>=2.2.0->tensorflow) (1.24.2)\nRequirement already satisfied: chardet<4,>=3.0.2 in /anaconda3/lib/python3.7/site-packages (from requests<3,>=2.21.0->tensorboard<2.3.0,>=2.2.0->tensorflow) (3.0.4)\nRequirement already satisfied: certifi>=2017.4.17 in /anaconda3/lib/python3.7/site-packages (from requests<3,>=2.21.0->tensorboard<2.3.0,>=2.2.0->tensorflow) (2019.6.16)\nRequirement already satisfied: zipp>=0.5 in /anaconda3/lib/python3.7/site-packages (from importlib-metadata; python_version < \"3.8\"->markdown>=2.6.8->tensorboard<2.3.0,>=2.2.0->tensorflow) (0.5.1)\nCollecting oauthlib>=3.0.0 (from requests-oauthlib>=0.7.0->google-auth-oauthlib<0.5,>=0.4.1->tensorboard<2.3.0,>=2.2.0->tensorflow)\n  Using cached https://files.pythonhosted.org/packages/05/57/ce2e7a8fa7c0afb54a0581b14a65b56e62b5759dbc98e80627142b8a3704/oauthlib-3.1.0-py2.py3-none-any.whl\nRequirement already satisfied: pyasn1>=0.1.3 in /anaconda3/lib/python3.7/site-packages (from rsa<4.1,>=3.1.4->google-auth<2,>=1.6.3->tensorboard<2.3.0,>=2.2.0->tensorflow) (0.4.8)\nBuilding wheels for collected packages: absl-py\n  Building wheel for absl-py (setup.py) ... \u001b[?25ldone\n\u001b[?25h  Stored in directory: /Users/b294776/Library/Caches/pip/wheels/8e/28/49/fad4e7f0b9a1227708cbbee4487ac8558a7334849cb81c813d\nSuccessfully built absl-py\nInstalling collected packages: absl-py, keras-preprocessing, h5py, markdown, oauthlib, requests-oauthlib, google-auth-oauthlib, tensorboard-plugin-wit, tensorboard, tensorflow-estimator, opt-einsum, termcolor, google-pasta, scipy, gast, astunparse, tensorflow\n  Found existing installation: h5py 2.9.0\n    Uninstalling h5py-2.9.0:\n      Successfully uninstalled h5py-2.9.0\n  Found existing installation: scipy 1.3.0\n    Uninstalling scipy-1.3.0:\n      Successfully uninstalled scipy-1.3.0\nSuccessfully installed absl-py-0.9.0 astunparse-1.6.3 gast-0.3.3 google-auth-oauthlib-0.4.1 google-pasta-0.2.0 h5py-2.10.0 keras-preprocessing-1.1.2 markdown-3.2.2 oauthlib-3.1.0 opt-einsum-3.2.1 requests-oauthlib-1.3.0 scipy-1.4.1 tensorboard-2.2.2 tensorboard-plugin-wit-1.6.0.post3 tensorflow-2.2.0 tensorflow-estimator-2.2.0 termcolor-1.1.0\n"
    }
   ],
   "source": [
    "! pip install -U scikit-learn\n",
    "! pip install -U pandas\n",
    "! pip install tensorflow"
   ]
  },
  {
   "cell_type": "code",
   "execution_count": null,
   "metadata": {},
   "outputs": [],
   "source": []
  }
 ],
 "metadata": {
  "language_info": {
   "codemirror_mode": {
    "name": "ipython",
    "version": 3
   },
   "file_extension": ".py",
   "mimetype": "text/x-python",
   "name": "python",
   "nbconvert_exporter": "python",
   "pygments_lexer": "ipython3",
   "version": "3.7.3-final"
  },
  "orig_nbformat": 2,
  "kernelspec": {
   "name": "python37364bitbaseconda0e5fb868a92640f3b36b103148e2b762",
   "display_name": "Python 3.7.3 64-bit ('base': conda)"
  }
 },
 "nbformat": 4,
 "nbformat_minor": 2
}