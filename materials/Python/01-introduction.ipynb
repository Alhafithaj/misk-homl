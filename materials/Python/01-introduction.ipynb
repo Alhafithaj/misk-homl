{
 "cells": [
  {
   "cell_type": "markdown",
   "metadata": {},
   "source": [
    "# Chapter 01: Introduction to Machine Learning\n",
    "\n",
    "## Requirements"
   ]
  },
  {
   "cell_type": "code",
   "execution_count": 19,
   "metadata": {},
   "outputs": [],
   "source": [
    "import pandas as pd\n",
    "import tensorflow as tf"
   ]
  },
  {
   "cell_type": "markdown",
   "metadata": {},
   "source": [
    "## The data sets\n",
    "\n",
    "* Ames homes sales data"
   ]
  },
  {
   "cell_type": "code",
   "execution_count": 3,
   "metadata": {},
   "outputs": [],
   "source": [
    "# access data\n",
    "ames = pd.read_csv(\"https://koalaverse.github.io/homlr/data/ames.csv\")"
   ]
  },
  {
   "cell_type": "code",
   "execution_count": 4,
   "metadata": {},
   "outputs": [
    {
     "output_type": "execute_result",
     "data": {
      "text/plain": "(2930, 81)"
     },
     "metadata": {},
     "execution_count": 4
    }
   ],
   "source": [
    "# initial dimension\n",
    "ames.shape"
   ]
  },
  {
   "cell_type": "code",
   "execution_count": 15,
   "metadata": {},
   "outputs": [
    {
     "output_type": "execute_result",
     "data": {
      "text/plain": "                           MS_SubClass                 MS_Zoning  \\\n0  One_Story_1946_and_Newer_All_Styles   Residential_Low_Density   \n1  One_Story_1946_and_Newer_All_Styles  Residential_High_Density   \n2  One_Story_1946_and_Newer_All_Styles   Residential_Low_Density   \n3  One_Story_1946_and_Newer_All_Styles   Residential_Low_Density   \n4             Two_Story_1946_and_Newer   Residential_Low_Density   \n\n   Lot_Frontage  Lot_Area Street            Alley           Lot_Shape  \\\n0           141     31770   Pave  No_Alley_Access  Slightly_Irregular   \n1            80     11622   Pave  No_Alley_Access             Regular   \n2            81     14267   Pave  No_Alley_Access  Slightly_Irregular   \n3            93     11160   Pave  No_Alley_Access             Regular   \n4            74     13830   Pave  No_Alley_Access  Slightly_Irregular   \n\n  Land_Contour Utilities Lot_Config  ...            Fence Misc_Feature  \\\n0          Lvl    AllPub     Corner  ...         No_Fence         None   \n1          Lvl    AllPub     Inside  ...  Minimum_Privacy         None   \n2          Lvl    AllPub     Corner  ...         No_Fence         Gar2   \n3          Lvl    AllPub     Corner  ...         No_Fence         None   \n4          Lvl    AllPub     Inside  ...  Minimum_Privacy         None   \n\n  Misc_Val Mo_Sold Year_Sold Sale_Type Sale_Condition Sale_Price  Longitude  \\\n0        0       5      2010       WD          Normal     215000 -93.619754   \n1        0       6      2010       WD          Normal     105000 -93.619756   \n2    12500       6      2010       WD          Normal     172000 -93.619387   \n3        0       4      2010       WD          Normal     244000 -93.617320   \n4        0       3      2010       WD          Normal     189900 -93.638933   \n\n    Latitude  \n0  42.054035  \n1  42.053014  \n2  42.052659  \n3  42.051245  \n4  42.060899  \n\n[5 rows x 81 columns]",
      "text/html": "<div>\n<style scoped>\n    .dataframe tbody tr th:only-of-type {\n        vertical-align: middle;\n    }\n\n    .dataframe tbody tr th {\n        vertical-align: top;\n    }\n\n    .dataframe thead th {\n        text-align: right;\n    }\n</style>\n<table border=\"1\" class=\"dataframe\">\n  <thead>\n    <tr style=\"text-align: right;\">\n      <th></th>\n      <th>MS_SubClass</th>\n      <th>MS_Zoning</th>\n      <th>Lot_Frontage</th>\n      <th>Lot_Area</th>\n      <th>Street</th>\n      <th>Alley</th>\n      <th>Lot_Shape</th>\n      <th>Land_Contour</th>\n      <th>Utilities</th>\n      <th>Lot_Config</th>\n      <th>...</th>\n      <th>Fence</th>\n      <th>Misc_Feature</th>\n      <th>Misc_Val</th>\n      <th>Mo_Sold</th>\n      <th>Year_Sold</th>\n      <th>Sale_Type</th>\n      <th>Sale_Condition</th>\n      <th>Sale_Price</th>\n      <th>Longitude</th>\n      <th>Latitude</th>\n    </tr>\n  </thead>\n  <tbody>\n    <tr>\n      <th>0</th>\n      <td>One_Story_1946_and_Newer_All_Styles</td>\n      <td>Residential_Low_Density</td>\n      <td>141</td>\n      <td>31770</td>\n      <td>Pave</td>\n      <td>No_Alley_Access</td>\n      <td>Slightly_Irregular</td>\n      <td>Lvl</td>\n      <td>AllPub</td>\n      <td>Corner</td>\n      <td>...</td>\n      <td>No_Fence</td>\n      <td>None</td>\n      <td>0</td>\n      <td>5</td>\n      <td>2010</td>\n      <td>WD</td>\n      <td>Normal</td>\n      <td>215000</td>\n      <td>-93.619754</td>\n      <td>42.054035</td>\n    </tr>\n    <tr>\n      <th>1</th>\n      <td>One_Story_1946_and_Newer_All_Styles</td>\n      <td>Residential_High_Density</td>\n      <td>80</td>\n      <td>11622</td>\n      <td>Pave</td>\n      <td>No_Alley_Access</td>\n      <td>Regular</td>\n      <td>Lvl</td>\n      <td>AllPub</td>\n      <td>Inside</td>\n      <td>...</td>\n      <td>Minimum_Privacy</td>\n      <td>None</td>\n      <td>0</td>\n      <td>6</td>\n      <td>2010</td>\n      <td>WD</td>\n      <td>Normal</td>\n      <td>105000</td>\n      <td>-93.619756</td>\n      <td>42.053014</td>\n    </tr>\n    <tr>\n      <th>2</th>\n      <td>One_Story_1946_and_Newer_All_Styles</td>\n      <td>Residential_Low_Density</td>\n      <td>81</td>\n      <td>14267</td>\n      <td>Pave</td>\n      <td>No_Alley_Access</td>\n      <td>Slightly_Irregular</td>\n      <td>Lvl</td>\n      <td>AllPub</td>\n      <td>Corner</td>\n      <td>...</td>\n      <td>No_Fence</td>\n      <td>Gar2</td>\n      <td>12500</td>\n      <td>6</td>\n      <td>2010</td>\n      <td>WD</td>\n      <td>Normal</td>\n      <td>172000</td>\n      <td>-93.619387</td>\n      <td>42.052659</td>\n    </tr>\n    <tr>\n      <th>3</th>\n      <td>One_Story_1946_and_Newer_All_Styles</td>\n      <td>Residential_Low_Density</td>\n      <td>93</td>\n      <td>11160</td>\n      <td>Pave</td>\n      <td>No_Alley_Access</td>\n      <td>Regular</td>\n      <td>Lvl</td>\n      <td>AllPub</td>\n      <td>Corner</td>\n      <td>...</td>\n      <td>No_Fence</td>\n      <td>None</td>\n      <td>0</td>\n      <td>4</td>\n      <td>2010</td>\n      <td>WD</td>\n      <td>Normal</td>\n      <td>244000</td>\n      <td>-93.617320</td>\n      <td>42.051245</td>\n    </tr>\n    <tr>\n      <th>4</th>\n      <td>Two_Story_1946_and_Newer</td>\n      <td>Residential_Low_Density</td>\n      <td>74</td>\n      <td>13830</td>\n      <td>Pave</td>\n      <td>No_Alley_Access</td>\n      <td>Slightly_Irregular</td>\n      <td>Lvl</td>\n      <td>AllPub</td>\n      <td>Inside</td>\n      <td>...</td>\n      <td>Minimum_Privacy</td>\n      <td>None</td>\n      <td>0</td>\n      <td>3</td>\n      <td>2010</td>\n      <td>WD</td>\n      <td>Normal</td>\n      <td>189900</td>\n      <td>-93.638933</td>\n      <td>42.060899</td>\n    </tr>\n  </tbody>\n</table>\n<p>5 rows × 81 columns</p>\n</div>"
     },
     "metadata": {},
     "execution_count": 15
    }
   ],
   "source": [
    "# first few observations\n",
    "ames.head()"
   ]
  },
  {
   "cell_type": "markdown",
   "metadata": {},
   "source": [
    "* Employee attrition information originally provided by [IBM Watson Analytics Lab](https://www.ibm.com/communities/analytics/watson-analytics-blog/hr-employee-attrition/)."
   ]
  },
  {
   "cell_type": "code",
   "execution_count": 10,
   "metadata": {},
   "outputs": [],
   "source": [
    "# access data\n",
    "attrition = pd.read_csv(\"https://koalaverse.github.io/homlr/data/attrition.csv\")"
   ]
  },
  {
   "cell_type": "code",
   "execution_count": 11,
   "metadata": {},
   "outputs": [
    {
     "output_type": "execute_result",
     "data": {
      "text/plain": "(1470, 31)"
     },
     "metadata": {},
     "execution_count": 11
    }
   ],
   "source": [
    "# initial dimension\n",
    "attrition.shape"
   ]
  },
  {
   "cell_type": "code",
   "execution_count": 16,
   "metadata": {},
   "outputs": [
    {
     "output_type": "execute_result",
     "data": {
      "text/plain": "   Age Attrition     BusinessTravel  DailyRate            Department  \\\n0   41       Yes      Travel_Rarely       1102                 Sales   \n1   49        No  Travel_Frequently        279  Research_Development   \n2   37       Yes      Travel_Rarely       1373  Research_Development   \n3   33        No  Travel_Frequently       1392  Research_Development   \n4   27        No      Travel_Rarely        591  Research_Development   \n\n   DistanceFromHome      Education EducationField EnvironmentSatisfaction  \\\n0                 1        College  Life_Sciences                  Medium   \n1                 8  Below_College  Life_Sciences                    High   \n2                 2        College          Other               Very_High   \n3                 3         Master  Life_Sciences               Very_High   \n4                 2  Below_College        Medical                     Low   \n\n   Gender  ...  PerformanceRating RelationshipSatisfaction  StockOptionLevel  \\\n0  Female  ...          Excellent                      Low                 0   \n1    Male  ...        Outstanding                Very_High                 1   \n2    Male  ...          Excellent                   Medium                 0   \n3  Female  ...          Excellent                     High                 0   \n4    Male  ...          Excellent                Very_High                 1   \n\n  TotalWorkingYears TrainingTimesLastYear WorkLifeBalance  YearsAtCompany  \\\n0                 8                     0             Bad               6   \n1                10                     3          Better              10   \n2                 7                     3          Better               0   \n3                 8                     3          Better               8   \n4                 6                     3          Better               2   \n\n   YearsInCurrentRole  YearsSinceLastPromotion YearsWithCurrManager  \n0                   4                        0                    5  \n1                   7                        1                    7  \n2                   0                        0                    0  \n3                   7                        3                    0  \n4                   2                        2                    2  \n\n[5 rows x 31 columns]",
      "text/html": "<div>\n<style scoped>\n    .dataframe tbody tr th:only-of-type {\n        vertical-align: middle;\n    }\n\n    .dataframe tbody tr th {\n        vertical-align: top;\n    }\n\n    .dataframe thead th {\n        text-align: right;\n    }\n</style>\n<table border=\"1\" class=\"dataframe\">\n  <thead>\n    <tr style=\"text-align: right;\">\n      <th></th>\n      <th>Age</th>\n      <th>Attrition</th>\n      <th>BusinessTravel</th>\n      <th>DailyRate</th>\n      <th>Department</th>\n      <th>DistanceFromHome</th>\n      <th>Education</th>\n      <th>EducationField</th>\n      <th>EnvironmentSatisfaction</th>\n      <th>Gender</th>\n      <th>...</th>\n      <th>PerformanceRating</th>\n      <th>RelationshipSatisfaction</th>\n      <th>StockOptionLevel</th>\n      <th>TotalWorkingYears</th>\n      <th>TrainingTimesLastYear</th>\n      <th>WorkLifeBalance</th>\n      <th>YearsAtCompany</th>\n      <th>YearsInCurrentRole</th>\n      <th>YearsSinceLastPromotion</th>\n      <th>YearsWithCurrManager</th>\n    </tr>\n  </thead>\n  <tbody>\n    <tr>\n      <th>0</th>\n      <td>41</td>\n      <td>Yes</td>\n      <td>Travel_Rarely</td>\n      <td>1102</td>\n      <td>Sales</td>\n      <td>1</td>\n      <td>College</td>\n      <td>Life_Sciences</td>\n      <td>Medium</td>\n      <td>Female</td>\n      <td>...</td>\n      <td>Excellent</td>\n      <td>Low</td>\n      <td>0</td>\n      <td>8</td>\n      <td>0</td>\n      <td>Bad</td>\n      <td>6</td>\n      <td>4</td>\n      <td>0</td>\n      <td>5</td>\n    </tr>\n    <tr>\n      <th>1</th>\n      <td>49</td>\n      <td>No</td>\n      <td>Travel_Frequently</td>\n      <td>279</td>\n      <td>Research_Development</td>\n      <td>8</td>\n      <td>Below_College</td>\n      <td>Life_Sciences</td>\n      <td>High</td>\n      <td>Male</td>\n      <td>...</td>\n      <td>Outstanding</td>\n      <td>Very_High</td>\n      <td>1</td>\n      <td>10</td>\n      <td>3</td>\n      <td>Better</td>\n      <td>10</td>\n      <td>7</td>\n      <td>1</td>\n      <td>7</td>\n    </tr>\n    <tr>\n      <th>2</th>\n      <td>37</td>\n      <td>Yes</td>\n      <td>Travel_Rarely</td>\n      <td>1373</td>\n      <td>Research_Development</td>\n      <td>2</td>\n      <td>College</td>\n      <td>Other</td>\n      <td>Very_High</td>\n      <td>Male</td>\n      <td>...</td>\n      <td>Excellent</td>\n      <td>Medium</td>\n      <td>0</td>\n      <td>7</td>\n      <td>3</td>\n      <td>Better</td>\n      <td>0</td>\n      <td>0</td>\n      <td>0</td>\n      <td>0</td>\n    </tr>\n    <tr>\n      <th>3</th>\n      <td>33</td>\n      <td>No</td>\n      <td>Travel_Frequently</td>\n      <td>1392</td>\n      <td>Research_Development</td>\n      <td>3</td>\n      <td>Master</td>\n      <td>Life_Sciences</td>\n      <td>Very_High</td>\n      <td>Female</td>\n      <td>...</td>\n      <td>Excellent</td>\n      <td>High</td>\n      <td>0</td>\n      <td>8</td>\n      <td>3</td>\n      <td>Better</td>\n      <td>8</td>\n      <td>7</td>\n      <td>3</td>\n      <td>0</td>\n    </tr>\n    <tr>\n      <th>4</th>\n      <td>27</td>\n      <td>No</td>\n      <td>Travel_Rarely</td>\n      <td>591</td>\n      <td>Research_Development</td>\n      <td>2</td>\n      <td>Below_College</td>\n      <td>Medical</td>\n      <td>Low</td>\n      <td>Male</td>\n      <td>...</td>\n      <td>Excellent</td>\n      <td>Very_High</td>\n      <td>1</td>\n      <td>6</td>\n      <td>3</td>\n      <td>Better</td>\n      <td>2</td>\n      <td>2</td>\n      <td>2</td>\n      <td>2</td>\n    </tr>\n  </tbody>\n</table>\n<p>5 rows × 31 columns</p>\n</div>"
     },
     "metadata": {},
     "execution_count": 16
    }
   ],
   "source": [
    "# first few observations\n",
    "attrition.head()"
   ]
  },
  {
   "cell_type": "markdown",
   "metadata": {},
   "source": [
    "* MNIST handwritten numbers data "
   ]
  },
  {
   "cell_type": "code",
   "execution_count": 27,
   "metadata": {},
   "outputs": [],
   "source": [
    "# access data\n",
    "(x_train, y_train), (x_test, y_test) = tf.keras.datasets.mnist.load_data()"
   ]
  },
  {
   "cell_type": "code",
   "execution_count": 28,
   "metadata": {},
   "outputs": [
    {
     "output_type": "execute_result",
     "data": {
      "text/plain": "(60000, 784)"
     },
     "metadata": {},
     "execution_count": 28
    }
   ],
   "source": [
    "# reshaping arrays to be 2-dimensional like the R version of this data\n",
    "x_train = x_train.reshape(x_train.shape[0], 28*28)\n",
    "x_test = x_test.reshape(x_test.shape[0], 28*28)\n",
    "\n",
    "x_train.shape"
   ]
  },
  {
   "cell_type": "code",
   "execution_count": 29,
   "metadata": {},
   "outputs": [
    {
     "output_type": "execute_result",
     "data": {
      "text/plain": "array([5, 0, 4, 1, 9, 2], dtype=uint8)"
     },
     "metadata": {},
     "execution_count": 29
    }
   ],
   "source": [
    "y_train[0:6]"
   ]
  },
  {
   "cell_type": "markdown",
   "metadata": {},
   "source": [
    "* Grocery items and quantities purchased. "
   ]
  },
  {
   "cell_type": "code",
   "execution_count": 13,
   "metadata": {},
   "outputs": [],
   "source": [
    "# access data\n",
    "my_basket = pd.read_csv(\"https://koalaverse.github.io/homlr/data/my_basket.csv\")"
   ]
  },
  {
   "cell_type": "code",
   "execution_count": 14,
   "metadata": {},
   "outputs": [
    {
     "output_type": "execute_result",
     "data": {
      "text/plain": "(2000, 42)"
     },
     "metadata": {},
     "execution_count": 14
    }
   ],
   "source": [
    "# initial dimensions\n",
    "my_basket.shape"
   ]
  },
  {
   "cell_type": "code",
   "execution_count": 17,
   "metadata": {},
   "outputs": [
    {
     "output_type": "execute_result",
     "data": {
      "text/plain": "   7up  lasagna  pepsi  yop  red.wine  cheese  bbq  bulmers  mayonnaise  \\\n0    0        0      0    0         0       0    0        0           0   \n1    0        0      0    0         0       0    0        0           0   \n2    0        0      0    0         0       0    0        0           0   \n3    0        0      0    2         1       0    0        0           0   \n4    0        0      0    0         0       0    0        2           0   \n\n   horlics  ...  instant.coffee  twix  potatoes  fosters  soup  toad.in.hole  \\\n0        0  ...               0     0         0        0     0             0   \n1        0  ...               0     0         0        0     0             0   \n2        0  ...               1     0         0        0     0             0   \n3        0  ...               0     2         0        1     0             0   \n4        0  ...               0     0         0        0     0             0   \n\n   coco.pops  kitkat  broccoli  cigarettes  \n0          0       1         0           0  \n1          0       0         2           0  \n2          1       0         0           0  \n3          0       1         0           1  \n4          0       0         0           0  \n\n[5 rows x 42 columns]",
      "text/html": "<div>\n<style scoped>\n    .dataframe tbody tr th:only-of-type {\n        vertical-align: middle;\n    }\n\n    .dataframe tbody tr th {\n        vertical-align: top;\n    }\n\n    .dataframe thead th {\n        text-align: right;\n    }\n</style>\n<table border=\"1\" class=\"dataframe\">\n  <thead>\n    <tr style=\"text-align: right;\">\n      <th></th>\n      <th>7up</th>\n      <th>lasagna</th>\n      <th>pepsi</th>\n      <th>yop</th>\n      <th>red.wine</th>\n      <th>cheese</th>\n      <th>bbq</th>\n      <th>bulmers</th>\n      <th>mayonnaise</th>\n      <th>horlics</th>\n      <th>...</th>\n      <th>instant.coffee</th>\n      <th>twix</th>\n      <th>potatoes</th>\n      <th>fosters</th>\n      <th>soup</th>\n      <th>toad.in.hole</th>\n      <th>coco.pops</th>\n      <th>kitkat</th>\n      <th>broccoli</th>\n      <th>cigarettes</th>\n    </tr>\n  </thead>\n  <tbody>\n    <tr>\n      <th>0</th>\n      <td>0</td>\n      <td>0</td>\n      <td>0</td>\n      <td>0</td>\n      <td>0</td>\n      <td>0</td>\n      <td>0</td>\n      <td>0</td>\n      <td>0</td>\n      <td>0</td>\n      <td>...</td>\n      <td>0</td>\n      <td>0</td>\n      <td>0</td>\n      <td>0</td>\n      <td>0</td>\n      <td>0</td>\n      <td>0</td>\n      <td>1</td>\n      <td>0</td>\n      <td>0</td>\n    </tr>\n    <tr>\n      <th>1</th>\n      <td>0</td>\n      <td>0</td>\n      <td>0</td>\n      <td>0</td>\n      <td>0</td>\n      <td>0</td>\n      <td>0</td>\n      <td>0</td>\n      <td>0</td>\n      <td>0</td>\n      <td>...</td>\n      <td>0</td>\n      <td>0</td>\n      <td>0</td>\n      <td>0</td>\n      <td>0</td>\n      <td>0</td>\n      <td>0</td>\n      <td>0</td>\n      <td>2</td>\n      <td>0</td>\n    </tr>\n    <tr>\n      <th>2</th>\n      <td>0</td>\n      <td>0</td>\n      <td>0</td>\n      <td>0</td>\n      <td>0</td>\n      <td>0</td>\n      <td>0</td>\n      <td>0</td>\n      <td>0</td>\n      <td>0</td>\n      <td>...</td>\n      <td>1</td>\n      <td>0</td>\n      <td>0</td>\n      <td>0</td>\n      <td>0</td>\n      <td>0</td>\n      <td>1</td>\n      <td>0</td>\n      <td>0</td>\n      <td>0</td>\n    </tr>\n    <tr>\n      <th>3</th>\n      <td>0</td>\n      <td>0</td>\n      <td>0</td>\n      <td>2</td>\n      <td>1</td>\n      <td>0</td>\n      <td>0</td>\n      <td>0</td>\n      <td>0</td>\n      <td>0</td>\n      <td>...</td>\n      <td>0</td>\n      <td>2</td>\n      <td>0</td>\n      <td>1</td>\n      <td>0</td>\n      <td>0</td>\n      <td>0</td>\n      <td>1</td>\n      <td>0</td>\n      <td>1</td>\n    </tr>\n    <tr>\n      <th>4</th>\n      <td>0</td>\n      <td>0</td>\n      <td>0</td>\n      <td>0</td>\n      <td>0</td>\n      <td>0</td>\n      <td>0</td>\n      <td>2</td>\n      <td>0</td>\n      <td>0</td>\n      <td>...</td>\n      <td>0</td>\n      <td>0</td>\n      <td>0</td>\n      <td>0</td>\n      <td>0</td>\n      <td>0</td>\n      <td>0</td>\n      <td>0</td>\n      <td>0</td>\n      <td>0</td>\n    </tr>\n  </tbody>\n</table>\n<p>5 rows × 42 columns</p>\n</div>"
     },
     "metadata": {},
     "execution_count": 17
    }
   ],
   "source": [
    "# first few observations\n",
    "my_basket.head()"
   ]
  },
  {
   "cell_type": "code",
   "execution_count": null,
   "metadata": {},
   "outputs": [],
   "source": []
  }
 ],
 "metadata": {
  "language_info": {
   "codemirror_mode": {
    "name": "ipython",
    "version": 3
   },
   "file_extension": ".py",
   "mimetype": "text/x-python",
   "name": "python",
   "nbconvert_exporter": "python",
   "pygments_lexer": "ipython3",
   "version": "3.7.3-final"
  },
  "orig_nbformat": 2,
  "kernelspec": {
   "name": "python37364bitbaseconda0e5fb868a92640f3b36b103148e2b762",
   "display_name": "Python 3.7.3 64-bit ('base': conda)"
  }
 },
 "nbformat": 4,
 "nbformat_minor": 2
}